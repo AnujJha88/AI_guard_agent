{
 "cells": [
  {
   "cell_type": "code",
   "execution_count": 1,
   "id": "bd843b02",
   "metadata": {},
   "outputs": [],
   "source": [
    "import whisper\n",
    "import queue,threading,time\n",
    "import numpy as np\n",
    "from scipy.io.wavfile import write as wv\n",
    "import tempfile,os\n",
    "import sounddevice as sd"
   ]
  },
  {
   "cell_type": "code",
   "execution_count": 2,
   "id": "289b575f",
   "metadata": {},
   "outputs": [],
   "source": [
    "model=whisper.load_model(\"base.en\")\n"
   ]
  },
  {
   "cell_type": "code",
   "execution_count": 3,
   "id": "a7ff4ddf",
   "metadata": {},
   "outputs": [],
   "source": [
    "SAMPLE_RATE=16000\n",
    "CHUNK_SECONDS=1\n",
    "COMMAND_ON=\"guard my room\"\n",
    "COMMAND_OFF=\"stop guarding\"\n",
    "audio_queue=queue.Queue()\n",
    "guard_mode=False\n",
    "stop_flag=False\n"
   ]
  },
  {
   "cell_type": "code",
   "execution_count": 4,
   "id": "3cb64b78",
   "metadata": {},
   "outputs": [],
   "source": [
    "\n",
    "def mic_stream():\n",
    "    def callback(indata, frames, t, status):\n",
    "        if status:\n",
    "            pass\n",
    "        audio_queue.put(indata.copy())\n",
    "    with sd.InputStream(samplerate=SAMPLE_RATE, channels=1, dtype='int16', callback=callback, blocksize=int(SAMPLE_RATE*CHUNK_SECONDS)):\n",
    "        while not stop_flag:\n",
    "            time.sleep(0.01)\n"
   ]
  },
  {
   "cell_type": "code",
   "execution_count": 5,
   "id": "e06be592",
   "metadata": {},
   "outputs": [],
   "source": [
    "threading.Thread(target=mic_stream, daemon=True).start()\n"
   ]
  },
  {
   "cell_type": "code",
   "execution_count": 6,
   "id": "66b6c5ef",
   "metadata": {},
   "outputs": [
    {
     "name": "stdout",
     "output_type": "stream",
     "text": [
      "Heard: all right,mate.\n",
      "Heard: all right, please.\n",
      "Heard: if you want to take some of your\n",
      "Heard: okay.\n",
      "Heard: okay, this is the...\n",
      "Heard: this is bad.\n",
      "Heard: if you can't talk.\n",
      "Heard: one thing that i want.\n",
      "Heard: to the west.\n",
      "Heard: soon!\n",
      "Heard: thank you.\n",
      "Heard: thank you.\n"
     ]
    }
   ],
   "source": [
    "try:\n",
    "    while True:\n",
    "        chunk = audio_queue.get()\n",
    "        with tempfile.NamedTemporaryFile(suffix=\".wav\", delete=False) as tmp:\n",
    "            path = tmp.name\n",
    "        wv(path, SAMPLE_RATE, chunk)\n",
    "        result = model.transcribe(path, language=\"en\", fp16=False, condition_on_previous_text=False)\n",
    "        text = (result.get(\"text\") or \"\").strip().lower()\n",
    "        os.remove(path)\n",
    "        if text:\n",
    "            print(\"Heard:\", text)\n",
    "            if COMMAND_ON in text and not guard_mode:\n",
    "                guard_mode = True\n",
    "                print(\"Guard mode: ON\")\n",
    "            elif COMMAND_OFF in text and guard_mode:\n",
    "                guard_mode = False\n",
    "                print(\"Guard mode: OFF\")\n",
    "except KeyboardInterrupt:\n",
    "    stop_flag = True"
   ]
  },
  {
   "cell_type": "markdown",
   "id": "648f3363",
   "metadata": {},
   "source": [
    "Well that  was cool i guess\n",
    "now lets do vosk stuff\n"
   ]
  }
 ],
 "metadata": {
  "kernelspec": {
   "display_name": "Python 3",
   "language": "python",
   "name": "python3"
  },
  "language_info": {
   "codemirror_mode": {
    "name": "ipython",
    "version": 3
   },
   "file_extension": ".py",
   "mimetype": "text/x-python",
   "name": "python",
   "nbconvert_exporter": "python",
   "pygments_lexer": "ipython3",
   "version": "3.12.5"
  }
 },
 "nbformat": 4,
 "nbformat_minor": 5
}

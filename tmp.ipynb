{
 "cells": [
  {
   "cell_type": "code",
   "execution_count": null,
   "id": "5f91f718",
   "metadata": {},
   "outputs": [],
   "source": [
    "import whisper\n",
    "import queue, threading, time\n",
    "import numpy as np\n",
    "from scipy.io.wavfile import write as wv\n",
    "import tempfile, os\n",
    "import sounddevice as sd\n",
    "import pyttsx3\n",
    "from datetime import datetime \n",
    "import pickle \n",
    "import face_recognition\n",
    "import cv2\n",
    "from pathlib import Path \n",
    "import google.generativeai as genai\n",
    "from dotenv import load_dotenv\n",
    "import requests, json\n",
    "import smtplib\n",
    "from email.mime.text import MIMEText\n",
    "from email.mime.multipart import MIMEMultipart"
   ]
  }
 ],
 "metadata": {
  "language_info": {
   "name": "python"
  }
 },
 "nbformat": 4,
 "nbformat_minor": 5
}
